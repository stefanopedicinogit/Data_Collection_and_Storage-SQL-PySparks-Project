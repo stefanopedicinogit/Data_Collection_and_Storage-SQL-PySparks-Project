{
 "cells": [
  {
   "cell_type": "markdown",
   "metadata": {},
   "source": [
    "# Step 1. Open the data file and study the general information"
   ]
  },
  {
   "cell_type": "code",
   "execution_count": null,
   "metadata": {},
   "outputs": [],
   "source": [
    "### pip install seaborn -U to run alone, to upgrade seaborn library to its last version. Kernel restart needed."
   ]
  },
  {
   "cell_type": "code",
   "execution_count": null,
   "metadata": {},
   "outputs": [],
   "source": [
    "pip install seaborn -U"
   ]
  },
  {
   "cell_type": "code",
   "execution_count": 2,
   "metadata": {},
   "outputs": [
    {
     "name": "stdout",
     "output_type": "stream",
     "text": [
      "Displaying the tables of contents:\n",
      "\n"
     ]
    },
    {
     "data": {
      "text/html": [
       "<div>\n",
       "<style scoped>\n",
       "    .dataframe tbody tr th:only-of-type {\n",
       "        vertical-align: middle;\n",
       "    }\n",
       "\n",
       "    .dataframe tbody tr th {\n",
       "        vertical-align: top;\n",
       "    }\n",
       "\n",
       "    .dataframe thead th {\n",
       "        text-align: right;\n",
       "    }\n",
       "</style>\n",
       "<table border=\"1\" class=\"dataframe\">\n",
       "  <thead>\n",
       "    <tr style=\"text-align: right;\">\n",
       "      <th></th>\n",
       "      <th>company_name</th>\n",
       "      <th>trips_amount</th>\n",
       "    </tr>\n",
       "  </thead>\n",
       "  <tbody>\n",
       "    <tr>\n",
       "      <td>0</td>\n",
       "      <td>Flash Cab</td>\n",
       "      <td>19558</td>\n",
       "    </tr>\n",
       "    <tr>\n",
       "      <td>1</td>\n",
       "      <td>Taxi Affiliation Services</td>\n",
       "      <td>11422</td>\n",
       "    </tr>\n",
       "    <tr>\n",
       "      <td>2</td>\n",
       "      <td>Medallion Leasing</td>\n",
       "      <td>10367</td>\n",
       "    </tr>\n",
       "    <tr>\n",
       "      <td>3</td>\n",
       "      <td>Yellow Cab</td>\n",
       "      <td>9888</td>\n",
       "    </tr>\n",
       "    <tr>\n",
       "      <td>4</td>\n",
       "      <td>Taxi Affiliation Service Yellow</td>\n",
       "      <td>9299</td>\n",
       "    </tr>\n",
       "    <tr>\n",
       "      <td>...</td>\n",
       "      <td>...</td>\n",
       "      <td>...</td>\n",
       "    </tr>\n",
       "    <tr>\n",
       "      <td>59</td>\n",
       "      <td>4053 - 40193 Adwar H. Nikola</td>\n",
       "      <td>7</td>\n",
       "    </tr>\n",
       "    <tr>\n",
       "      <td>60</td>\n",
       "      <td>2733 - 74600 Benny Jona</td>\n",
       "      <td>7</td>\n",
       "    </tr>\n",
       "    <tr>\n",
       "      <td>61</td>\n",
       "      <td>5874 - 73628 Sergey Cab Corp.</td>\n",
       "      <td>5</td>\n",
       "    </tr>\n",
       "    <tr>\n",
       "      <td>62</td>\n",
       "      <td>2241 - 44667 - Felman Corp</td>\n",
       "      <td>3</td>\n",
       "    </tr>\n",
       "    <tr>\n",
       "      <td>63</td>\n",
       "      <td>3556 - 36214 RC Andrews Cab</td>\n",
       "      <td>2</td>\n",
       "    </tr>\n",
       "  </tbody>\n",
       "</table>\n",
       "<p>64 rows × 2 columns</p>\n",
       "</div>"
      ],
      "text/plain": [
       "                       company_name  trips_amount\n",
       "0                         Flash Cab         19558\n",
       "1         Taxi Affiliation Services         11422\n",
       "2                 Medallion Leasing         10367\n",
       "3                        Yellow Cab          9888\n",
       "4   Taxi Affiliation Service Yellow          9299\n",
       "..                              ...           ...\n",
       "59     4053 - 40193 Adwar H. Nikola             7\n",
       "60          2733 - 74600 Benny Jona             7\n",
       "61    5874 - 73628 Sergey Cab Corp.             5\n",
       "62       2241 - 44667 - Felman Corp             3\n",
       "63      3556 - 36214 RC Andrews Cab             2\n",
       "\n",
       "[64 rows x 2 columns]"
      ]
     },
     "metadata": {},
     "output_type": "display_data"
    },
    {
     "data": {
      "text/html": [
       "<div>\n",
       "<style scoped>\n",
       "    .dataframe tbody tr th:only-of-type {\n",
       "        vertical-align: middle;\n",
       "    }\n",
       "\n",
       "    .dataframe tbody tr th {\n",
       "        vertical-align: top;\n",
       "    }\n",
       "\n",
       "    .dataframe thead th {\n",
       "        text-align: right;\n",
       "    }\n",
       "</style>\n",
       "<table border=\"1\" class=\"dataframe\">\n",
       "  <thead>\n",
       "    <tr style=\"text-align: right;\">\n",
       "      <th></th>\n",
       "      <th>dropoff_location_name</th>\n",
       "      <th>average_trips</th>\n",
       "    </tr>\n",
       "  </thead>\n",
       "  <tbody>\n",
       "    <tr>\n",
       "      <td>0</td>\n",
       "      <td>Loop</td>\n",
       "      <td>10727.466667</td>\n",
       "    </tr>\n",
       "    <tr>\n",
       "      <td>1</td>\n",
       "      <td>River North</td>\n",
       "      <td>9523.666667</td>\n",
       "    </tr>\n",
       "    <tr>\n",
       "      <td>2</td>\n",
       "      <td>Streeterville</td>\n",
       "      <td>6664.666667</td>\n",
       "    </tr>\n",
       "    <tr>\n",
       "      <td>3</td>\n",
       "      <td>West Loop</td>\n",
       "      <td>5163.666667</td>\n",
       "    </tr>\n",
       "    <tr>\n",
       "      <td>4</td>\n",
       "      <td>O'Hare</td>\n",
       "      <td>2546.900000</td>\n",
       "    </tr>\n",
       "    <tr>\n",
       "      <td>...</td>\n",
       "      <td>...</td>\n",
       "      <td>...</td>\n",
       "    </tr>\n",
       "    <tr>\n",
       "      <td>89</td>\n",
       "      <td>Mount Greenwood</td>\n",
       "      <td>3.137931</td>\n",
       "    </tr>\n",
       "    <tr>\n",
       "      <td>90</td>\n",
       "      <td>Hegewisch</td>\n",
       "      <td>3.117647</td>\n",
       "    </tr>\n",
       "    <tr>\n",
       "      <td>91</td>\n",
       "      <td>Burnside</td>\n",
       "      <td>2.333333</td>\n",
       "    </tr>\n",
       "    <tr>\n",
       "      <td>92</td>\n",
       "      <td>East Side</td>\n",
       "      <td>1.961538</td>\n",
       "    </tr>\n",
       "    <tr>\n",
       "      <td>93</td>\n",
       "      <td>Riverdale</td>\n",
       "      <td>1.800000</td>\n",
       "    </tr>\n",
       "  </tbody>\n",
       "</table>\n",
       "<p>94 rows × 2 columns</p>\n",
       "</div>"
      ],
      "text/plain": [
       "   dropoff_location_name  average_trips\n",
       "0                   Loop   10727.466667\n",
       "1            River North    9523.666667\n",
       "2          Streeterville    6664.666667\n",
       "3              West Loop    5163.666667\n",
       "4                 O'Hare    2546.900000\n",
       "..                   ...            ...\n",
       "89       Mount Greenwood       3.137931\n",
       "90             Hegewisch       3.117647\n",
       "91              Burnside       2.333333\n",
       "92             East Side       1.961538\n",
       "93             Riverdale       1.800000\n",
       "\n",
       "[94 rows x 2 columns]"
      ]
     },
     "metadata": {},
     "output_type": "display_data"
    },
    {
     "data": {
      "text/html": [
       "<div>\n",
       "<style scoped>\n",
       "    .dataframe tbody tr th:only-of-type {\n",
       "        vertical-align: middle;\n",
       "    }\n",
       "\n",
       "    .dataframe tbody tr th {\n",
       "        vertical-align: top;\n",
       "    }\n",
       "\n",
       "    .dataframe thead th {\n",
       "        text-align: right;\n",
       "    }\n",
       "</style>\n",
       "<table border=\"1\" class=\"dataframe\">\n",
       "  <thead>\n",
       "    <tr style=\"text-align: right;\">\n",
       "      <th></th>\n",
       "      <th>start_ts</th>\n",
       "      <th>weather_conditions</th>\n",
       "      <th>duration_seconds</th>\n",
       "    </tr>\n",
       "  </thead>\n",
       "  <tbody>\n",
       "    <tr>\n",
       "      <td>0</td>\n",
       "      <td>2017-11-25 16:00:00</td>\n",
       "      <td>Good</td>\n",
       "      <td>2410.0</td>\n",
       "    </tr>\n",
       "    <tr>\n",
       "      <td>1</td>\n",
       "      <td>2017-11-25 14:00:00</td>\n",
       "      <td>Good</td>\n",
       "      <td>1920.0</td>\n",
       "    </tr>\n",
       "    <tr>\n",
       "      <td>2</td>\n",
       "      <td>2017-11-25 12:00:00</td>\n",
       "      <td>Good</td>\n",
       "      <td>1543.0</td>\n",
       "    </tr>\n",
       "    <tr>\n",
       "      <td>3</td>\n",
       "      <td>2017-11-04 10:00:00</td>\n",
       "      <td>Good</td>\n",
       "      <td>2512.0</td>\n",
       "    </tr>\n",
       "    <tr>\n",
       "      <td>4</td>\n",
       "      <td>2017-11-11 07:00:00</td>\n",
       "      <td>Good</td>\n",
       "      <td>1440.0</td>\n",
       "    </tr>\n",
       "    <tr>\n",
       "      <td>...</td>\n",
       "      <td>...</td>\n",
       "      <td>...</td>\n",
       "      <td>...</td>\n",
       "    </tr>\n",
       "    <tr>\n",
       "      <td>1063</td>\n",
       "      <td>2017-11-25 11:00:00</td>\n",
       "      <td>Good</td>\n",
       "      <td>0.0</td>\n",
       "    </tr>\n",
       "    <tr>\n",
       "      <td>1064</td>\n",
       "      <td>2017-11-11 10:00:00</td>\n",
       "      <td>Good</td>\n",
       "      <td>1318.0</td>\n",
       "    </tr>\n",
       "    <tr>\n",
       "      <td>1065</td>\n",
       "      <td>2017-11-11 13:00:00</td>\n",
       "      <td>Good</td>\n",
       "      <td>2100.0</td>\n",
       "    </tr>\n",
       "    <tr>\n",
       "      <td>1066</td>\n",
       "      <td>2017-11-11 08:00:00</td>\n",
       "      <td>Good</td>\n",
       "      <td>1380.0</td>\n",
       "    </tr>\n",
       "    <tr>\n",
       "      <td>1067</td>\n",
       "      <td>2017-11-04 16:00:00</td>\n",
       "      <td>Bad</td>\n",
       "      <td>2834.0</td>\n",
       "    </tr>\n",
       "  </tbody>\n",
       "</table>\n",
       "<p>1068 rows × 3 columns</p>\n",
       "</div>"
      ],
      "text/plain": [
       "                 start_ts weather_conditions  duration_seconds\n",
       "0     2017-11-25 16:00:00               Good            2410.0\n",
       "1     2017-11-25 14:00:00               Good            1920.0\n",
       "2     2017-11-25 12:00:00               Good            1543.0\n",
       "3     2017-11-04 10:00:00               Good            2512.0\n",
       "4     2017-11-11 07:00:00               Good            1440.0\n",
       "...                   ...                ...               ...\n",
       "1063  2017-11-25 11:00:00               Good               0.0\n",
       "1064  2017-11-11 10:00:00               Good            1318.0\n",
       "1065  2017-11-11 13:00:00               Good            2100.0\n",
       "1066  2017-11-11 08:00:00               Good            1380.0\n",
       "1067  2017-11-04 16:00:00                Bad            2834.0\n",
       "\n",
       "[1068 rows x 3 columns]"
      ]
     },
     "metadata": {},
     "output_type": "display_data"
    }
   ],
   "source": [
    "### Opening the file and starting studying general information of the dataset\n",
    "import pandas as pd \n",
    "import numpy as np\n",
    "import seaborn as sns\n",
    "import matplotlib as mpl\n",
    "from matplotlib import pyplot as plt\n",
    "from collections import Counter\n",
    "from scipy import stats as st\n",
    "\n",
    "company = pd.read_csv('/datasets/project_sql_result_01.csv')\n",
    "trips = pd.read_csv('/datasets/project_sql_result_04.csv')\n",
    "hypotesi = pd.read_csv('/datasets/project_sql_result_07.csv')\n",
    "\n",
    "print('Displaying the tables of contents:')\n",
    "print('')\n",
    "display(company)\n",
    "display(trips)\n",
    "display(hypotesi)"
   ]
  },
  {
   "cell_type": "code",
   "execution_count": 3,
   "metadata": {},
   "outputs": [
    {
     "name": "stdout",
     "output_type": "stream",
     "text": [
      "<class 'pandas.core.frame.DataFrame'>\n",
      "RangeIndex: 64 entries, 0 to 63\n",
      "Data columns (total 2 columns):\n",
      "company_name    64 non-null object\n",
      "trips_amount    64 non-null int64\n",
      "dtypes: int64(1), object(1)\n",
      "memory usage: 1.1+ KB\n",
      "\n",
      "The company dataset has 64 rows and 2 columns.\n",
      "\n",
      "<class 'pandas.core.frame.DataFrame'>\n",
      "RangeIndex: 94 entries, 0 to 93\n",
      "Data columns (total 2 columns):\n",
      "dropoff_location_name    94 non-null object\n",
      "average_trips            94 non-null float64\n",
      "dtypes: float64(1), object(1)\n",
      "memory usage: 1.6+ KB\n",
      "\n",
      "The trips dataset has 94 rows and 2 columns.\n",
      "\n",
      "<class 'pandas.core.frame.DataFrame'>\n",
      "RangeIndex: 1068 entries, 0 to 1067\n",
      "Data columns (total 3 columns):\n",
      "start_ts              1068 non-null object\n",
      "weather_conditions    1068 non-null object\n",
      "duration_seconds      1068 non-null float64\n",
      "dtypes: float64(1), object(2)\n",
      "memory usage: 25.2+ KB\n",
      "\n",
      "The hypotesi dataset has 1068 rows and 3 columns.\n",
      "\n"
     ]
    }
   ],
   "source": [
    "company.info()\n",
    "print('')\n",
    "print('The company dataset has', company.shape[0],'rows and', company.shape[1],'columns.')\n",
    "print('')\n",
    "trips.info()\n",
    "print('')\n",
    "print('The trips dataset has', trips.shape[0],'rows and', trips.shape[1],'columns.')\n",
    "print('')\n",
    "hypotesi.info()\n",
    "print('')\n",
    "print('The hypotesi dataset has', hypotesi.shape[0], 'rows and', hypotesi.shape[1],'columns.')\n",
    "print('')"
   ]
  },
  {
   "cell_type": "code",
   "execution_count": 4,
   "metadata": {},
   "outputs": [
    {
     "name": "stdout",
     "output_type": "stream",
     "text": [
      "The types for columns in company dataset are:\n",
      "\n",
      "company_name    object\n",
      "trips_amount     int64\n",
      "dtype: object\n",
      "\n",
      "Right datatypes. I can change the int64 to int16 to minimize the space volume of the program's execution\n",
      "\n",
      "\n",
      "The types for columns in trips dataset are:\n",
      "\n",
      "dropoff_location_name     object\n",
      "average_trips            float64\n",
      "dtype: object\n",
      "Right datatypes.\n",
      "\n",
      "\n",
      "The types for columns in hypotesi dataset are:\n",
      "\n",
      "start_ts               object\n",
      "weather_conditions     object\n",
      "duration_seconds      float64\n",
      "dtype: object\n",
      "\n",
      "Wrong datatypes! Replacing start_ts with a date type and duration seconds to int16.\n"
     ]
    }
   ],
   "source": [
    "print('The types for columns in company dataset are:')\n",
    "print('')\n",
    "print(company.dtypes)\n",
    "print('')\n",
    "print(\"Right datatypes. I can change the int64 to int16 to minimize the space volume of the program's execution\")\n",
    "print('')\n",
    "print('')\n",
    "print('The types for columns in trips dataset are:')\n",
    "print('')\n",
    "print(trips.dtypes)\n",
    "print('Right datatypes.') # I will not change float64 since we need an high decimal precision.\n",
    "print('')\n",
    "print('')\n",
    "print('The types for columns in hypotesi dataset are:')\n",
    "print('')\n",
    "print(hypotesi.dtypes)\n",
    "print('')\n",
    "print('Wrong datatypes! Replacing start_ts with a date type and duration seconds to int16.') # I can change the int64 to int16 to minimize the space volume of the program's execution."
   ]
  },
  {
   "cell_type": "code",
   "execution_count": 5,
   "metadata": {},
   "outputs": [
    {
     "name": "stdout",
     "output_type": "stream",
     "text": [
      "Printing out the value counts for company_name column:\n",
      "\n",
      "2823 - 73307 Lee Express Inc         1\n",
      "Globe Taxi                           1\n",
      "2809 - 95474 C & D Cab Co Inc.       1\n",
      "Checker Taxi Affiliation             1\n",
      "3721 - Santamaria Express            1\n",
      "                                    ..\n",
      "Blue Ribbon Taxi Association Inc.    1\n",
      "Choice Taxi Association              1\n",
      "Flash Cab                            1\n",
      "Gold Coast Taxi                      1\n",
      "Yellow Cab                           1\n",
      "Name: company_name, Length: 64, dtype: int64\n",
      "\n",
      "The number of None values is: 0\n",
      "\n",
      "The number of unique company names in the column is: 64\n"
     ]
    }
   ],
   "source": [
    "###COMPANY\n",
    "print('Printing out the value counts for company_name column:')\n",
    "print('')\n",
    "print(company['company_name'].value_counts(dropna=False))\n",
    "print('')\n",
    "print('The number of None values is:', company['company_name'].isna().sum())\n",
    "print('')\n",
    "print('The number of unique company names in the column is:', company['company_name'].nunique())"
   ]
  },
  {
   "cell_type": "code",
   "execution_count": 6,
   "metadata": {},
   "outputs": [
    {
     "name": "stdout",
     "output_type": "stream",
     "text": [
      "Printing out the value counts for trips_amount column:\n",
      "\n",
      "29       3\n",
      "14       3\n",
      "21       2\n",
      "33       2\n",
      "7        2\n",
      "15       2\n",
      "127      1\n",
      "1955     1\n",
      "9888     1\n",
      "31       1\n",
      "11422    1\n",
      "27       1\n",
      "25       1\n",
      "5015     1\n",
      "3355     1\n",
      "16       1\n",
      "20       1\n",
      "1404     1\n",
      "146      1\n",
      "1296     1\n",
      "13       1\n",
      "12       1\n",
      "4383     1\n",
      "8        1\n",
      "5        1\n",
      "3        1\n",
      "2        1\n",
      "36       1\n",
      "37       1\n",
      "39       1\n",
      "9299     1\n",
      "250      1\n",
      "1014     1\n",
      "1775     1\n",
      "10367    1\n",
      "7701     1\n",
      "210      1\n",
      "3175     1\n",
      "19558    1\n",
      "11       1\n",
      "9181     1\n",
      "7455     1\n",
      "978      1\n",
      "2216     1\n",
      "1486     1\n",
      "2070     1\n",
      "1607     1\n",
      "5953     1\n",
      "230      1\n",
      "2235     1\n",
      "310      1\n",
      "402      1\n",
      "1259     1\n",
      "428      1\n",
      "147      1\n",
      "8448     1\n",
      "Name: trips_amount, dtype: int64\n",
      "\n",
      "The number of None values is: 0\n",
      "\n",
      "The number of unique values for trip_amount column is: 56\n"
     ]
    }
   ],
   "source": [
    "print('Printing out the value counts for trips_amount column:')\n",
    "print('')\n",
    "print(company['trips_amount'].value_counts(dropna=False))\n",
    "print('')\n",
    "print('The number of None values is:', company['trips_amount'].isna().sum())\n",
    "print('')\n",
    "print('The number of unique values for trip_amount column is:', company['trips_amount'].nunique())"
   ]
  },
  {
   "cell_type": "code",
   "execution_count": 7,
   "metadata": {},
   "outputs": [
    {
     "name": "stdout",
     "output_type": "stream",
     "text": [
      "Printing out the value counts for dropoff_location_name column:\n",
      "\n",
      "Wicker Park          1\n",
      "Burnside             1\n",
      "South Chicago        1\n",
      "Riverdale            1\n",
      "South Deering        1\n",
      "                    ..\n",
      "Mckinley Park        1\n",
      "Lower West Side      1\n",
      "Pullman              1\n",
      "Loop                 1\n",
      "Ukrainian Village    1\n",
      "Name: dropoff_location_name, Length: 94, dtype: int64\n",
      "\n",
      "The number of None values is: 0\n",
      "\n",
      "The number of unique dropoff location in the column is: 94\n"
     ]
    }
   ],
   "source": [
    "#### TRIPS\n",
    "print('Printing out the value counts for dropoff_location_name column:')\n",
    "print('')\n",
    "print(trips['dropoff_location_name'].value_counts(dropna=False))\n",
    "print('')\n",
    "print('The number of None values is:', trips['dropoff_location_name'].isna().sum())\n",
    "print('')\n",
    "print('The number of unique dropoff location in the column is:', trips['dropoff_location_name'].nunique())"
   ]
  },
  {
   "cell_type": "code",
   "execution_count": 8,
   "metadata": {},
   "outputs": [
    {
     "name": "stdout",
     "output_type": "stream",
     "text": [
      "Printing out the value counts for average_trips column:\n",
      "\n",
      "298.333333     1\n",
      "16.133333      1\n",
      "32.166667      1\n",
      "14.166667      1\n",
      "3.896552       1\n",
      "              ..\n",
      "59.033333      1\n",
      "33.800000      1\n",
      "8.233333       1\n",
      "255.133333     1\n",
      "1510.000000    1\n",
      "Name: average_trips, Length: 94, dtype: int64\n",
      "\n",
      "The number of None values is: 0\n",
      "\n",
      "The number of unique average_trips in the column is: 94\n"
     ]
    }
   ],
   "source": [
    "print('Printing out the value counts for average_trips column:')\n",
    "print('')\n",
    "print(trips['average_trips'].value_counts(dropna=False))\n",
    "print('')\n",
    "print('The number of None values is:', trips['average_trips'].isna().sum())\n",
    "print('')\n",
    "print('The number of unique average_trips in the column is:', trips['average_trips'].nunique())"
   ]
  },
  {
   "cell_type": "code",
   "execution_count": 9,
   "metadata": {},
   "outputs": [
    {
     "name": "stdout",
     "output_type": "stream",
     "text": [
      "Printing out the value counts for average_trips column:\n",
      "\n",
      "2017-11-11 10:00:00    48\n",
      "2017-11-04 14:00:00    46\n",
      "2017-11-04 12:00:00    46\n",
      "2017-11-11 06:00:00    45\n",
      "2017-11-11 08:00:00    43\n",
      "                       ..\n",
      "2017-11-11 23:00:00     1\n",
      "2017-11-18 00:00:00     1\n",
      "2017-11-04 22:00:00     1\n",
      "2017-11-25 19:00:00     1\n",
      "2017-11-25 23:00:00     1\n",
      "Name: start_ts, Length: 81, dtype: int64\n",
      "\n",
      "The number of None values is: 0\n",
      "\n",
      "The number of unique average_trips in the column is: 81\n"
     ]
    }
   ],
   "source": [
    "###HYPOTESI.\n",
    "print('Printing out the value counts for average_trips column:')\n",
    "print('')\n",
    "print(hypotesi['start_ts'].value_counts(dropna=False))\n",
    "print('')\n",
    "print('The number of None values is:', hypotesi['start_ts'].isna().sum())\n",
    "print('')\n",
    "print('The number of unique average_trips in the column is:', hypotesi['start_ts'].nunique())"
   ]
  },
  {
   "cell_type": "code",
   "execution_count": 10,
   "metadata": {},
   "outputs": [
    {
     "name": "stdout",
     "output_type": "stream",
     "text": [
      "Printing out the value counts for average_trips column:\n",
      "\n",
      "Good    888\n",
      "Bad     180\n",
      "Name: weather_conditions, dtype: int64\n",
      "\n",
      "The number of None values is: 0\n",
      "\n",
      "The number of unique average_trips in the column is: 2\n"
     ]
    }
   ],
   "source": [
    "print('Printing out the value counts for average_trips column:')\n",
    "print('')\n",
    "print(hypotesi['weather_conditions'].value_counts(dropna=False))\n",
    "print('')\n",
    "print('The number of None values is:', hypotesi['weather_conditions'].isna().sum())\n",
    "print('')\n",
    "print('The number of unique average_trips in the column is:', hypotesi['weather_conditions'].nunique())"
   ]
  },
  {
   "cell_type": "code",
   "execution_count": 11,
   "metadata": {},
   "outputs": [
    {
     "name": "stdout",
     "output_type": "stream",
     "text": [
      "Printing out the value counts for average_trips column:\n",
      "\n",
      "1380.0    41\n",
      "1260.0    35\n",
      "1440.0    29\n",
      "1320.0    23\n",
      "1200.0    23\n",
      "          ..\n",
      "1538.0     1\n",
      "2522.0     1\n",
      "1174.0     1\n",
      "2895.0     1\n",
      "2491.0     1\n",
      "Name: duration_seconds, Length: 495, dtype: int64\n",
      "\n",
      "The number of None values is: 0\n",
      "\n",
      "The number of unique average_trips in the column is: 495\n"
     ]
    }
   ],
   "source": [
    "print('Printing out the value counts for average_trips column:')\n",
    "print('')\n",
    "print(hypotesi['duration_seconds'].value_counts(dropna=False))\n",
    "print('')\n",
    "print('The number of None values is:', hypotesi['duration_seconds'].isna().sum())\n",
    "print('')\n",
    "print('The number of unique average_trips in the column is:', hypotesi['duration_seconds'].nunique())"
   ]
  },
  {
   "cell_type": "markdown",
   "metadata": {},
   "source": [
    "# Step 1. Open the data file and study the general information\n",
    "In the first step I analyzed the five presented dataframes.\n",
    "\n",
    "The company table (data on companies):\n",
    "- company_name: taxi company name / objects\n",
    "- trips_amount: the number of rides for each taxi company on November 15-16, 2017./ integers\n",
    "\n",
    "The trips table (data on trips):\n",
    "- dropoff_location_name: Chicago neighborhoods where rides ended / objects\n",
    "- average_trips: the average number of rides that ended in each neighborhood in November 2017. / floating numbers\n",
    "\n",
    "The hypotesi table (data on weather for our hypotesi):\n",
    "- start_ts: pickup date and time / object\n",
    "- weather_conditions: weather conditions at the moment the ride started / object (wrong)\n",
    "- duration_seconds: ride duration in seconds / float(wrong)\n",
    "\n",
    "The dataset has no duplicates and no NaN values."
   ]
  },
  {
   "cell_type": "markdown",
   "metadata": {},
   "source": [
    "# Step 2. Prepare & change the data."
   ]
  },
  {
   "cell_type": "code",
   "execution_count": 12,
   "metadata": {},
   "outputs": [
    {
     "name": "stdout",
     "output_type": "stream",
     "text": [
      "<class 'pandas.core.frame.DataFrame'>\n",
      "RangeIndex: 64 entries, 0 to 63\n",
      "Data columns (total 2 columns):\n",
      "company_name    64 non-null object\n",
      "trips_amount    64 non-null int16\n",
      "dtypes: int16(1), object(1)\n",
      "memory usage: 768.0+ bytes\n"
     ]
    }
   ],
   "source": [
    "###COMPANY\n",
    "#Changing trips_amount data type.\n",
    "company.trips_amount = company.trips_amount.astype('int16')\n",
    "company.info()"
   ]
  },
  {
   "cell_type": "code",
   "execution_count": 13,
   "metadata": {},
   "outputs": [
    {
     "name": "stdout",
     "output_type": "stream",
     "text": [
      "<class 'pandas.core.frame.DataFrame'>\n",
      "RangeIndex: 1068 entries, 0 to 1067\n",
      "Data columns (total 3 columns):\n",
      "start_ts              1068 non-null datetime64[ns]\n",
      "weather_conditions    1068 non-null object\n",
      "duration_seconds      1068 non-null int16\n",
      "dtypes: datetime64[ns](1), int16(1), object(1)\n",
      "memory usage: 18.9+ KB\n"
     ]
    }
   ],
   "source": [
    "###HYPOTESI\n",
    "#Changing start_ts data type.\n",
    "hypotesi.start_ts = pd.to_datetime(hypotesi.start_ts)\n",
    "hypotesi.duration_seconds = hypotesi.duration_seconds.astype('int16')\n",
    "hypotesi.info()"
   ]
  },
  {
   "cell_type": "code",
   "execution_count": 14,
   "metadata": {},
   "outputs": [
    {
     "data": {
      "text/html": [
       "<div>\n",
       "<style scoped>\n",
       "    .dataframe tbody tr th:only-of-type {\n",
       "        vertical-align: middle;\n",
       "    }\n",
       "\n",
       "    .dataframe tbody tr th {\n",
       "        vertical-align: top;\n",
       "    }\n",
       "\n",
       "    .dataframe thead th {\n",
       "        text-align: right;\n",
       "    }\n",
       "</style>\n",
       "<table border=\"1\" class=\"dataframe\">\n",
       "  <thead>\n",
       "    <tr style=\"text-align: right;\">\n",
       "      <th></th>\n",
       "      <th>dropoff_location_name</th>\n",
       "      <th>average_trips</th>\n",
       "    </tr>\n",
       "  </thead>\n",
       "  <tbody>\n",
       "    <tr>\n",
       "      <td>0</td>\n",
       "      <td>Loop</td>\n",
       "      <td>10727.466667</td>\n",
       "    </tr>\n",
       "    <tr>\n",
       "      <td>1</td>\n",
       "      <td>River North</td>\n",
       "      <td>9523.666667</td>\n",
       "    </tr>\n",
       "    <tr>\n",
       "      <td>2</td>\n",
       "      <td>Streeterville</td>\n",
       "      <td>6664.666667</td>\n",
       "    </tr>\n",
       "    <tr>\n",
       "      <td>3</td>\n",
       "      <td>West Loop</td>\n",
       "      <td>5163.666667</td>\n",
       "    </tr>\n",
       "    <tr>\n",
       "      <td>4</td>\n",
       "      <td>O'Hare</td>\n",
       "      <td>2546.900000</td>\n",
       "    </tr>\n",
       "    <tr>\n",
       "      <td>5</td>\n",
       "      <td>Lake View</td>\n",
       "      <td>2420.966667</td>\n",
       "    </tr>\n",
       "    <tr>\n",
       "      <td>6</td>\n",
       "      <td>Grant Park</td>\n",
       "      <td>2068.533333</td>\n",
       "    </tr>\n",
       "    <tr>\n",
       "      <td>7</td>\n",
       "      <td>Museum Campus</td>\n",
       "      <td>1510.000000</td>\n",
       "    </tr>\n",
       "    <tr>\n",
       "      <td>8</td>\n",
       "      <td>Gold Coast</td>\n",
       "      <td>1364.233333</td>\n",
       "    </tr>\n",
       "    <tr>\n",
       "      <td>9</td>\n",
       "      <td>Sheffield &amp; DePaul</td>\n",
       "      <td>1259.766667</td>\n",
       "    </tr>\n",
       "  </tbody>\n",
       "</table>\n",
       "</div>"
      ],
      "text/plain": [
       "  dropoff_location_name  average_trips\n",
       "0                  Loop   10727.466667\n",
       "1           River North    9523.666667\n",
       "2         Streeterville    6664.666667\n",
       "3             West Loop    5163.666667\n",
       "4                O'Hare    2546.900000\n",
       "5             Lake View    2420.966667\n",
       "6            Grant Park    2068.533333\n",
       "7         Museum Campus    1510.000000\n",
       "8            Gold Coast    1364.233333\n",
       "9    Sheffield & DePaul    1259.766667"
      ]
     },
     "metadata": {},
     "output_type": "display_data"
    }
   ],
   "source": [
    "#TRIPS\n",
    "#Finding a TOP 10 dropoffs\n",
    "trips = trips.sort_values('average_trips',ascending=False)\n",
    "trips_top_10 = trips.query('index < 10')\n",
    "display(trips_top_10)"
   ]
  },
  {
   "cell_type": "code",
   "execution_count": 15,
   "metadata": {},
   "outputs": [
    {
     "data": {
      "text/html": [
       "<div>\n",
       "<style scoped>\n",
       "    .dataframe tbody tr th:only-of-type {\n",
       "        vertical-align: middle;\n",
       "    }\n",
       "\n",
       "    .dataframe tbody tr th {\n",
       "        vertical-align: top;\n",
       "    }\n",
       "\n",
       "    .dataframe thead th {\n",
       "        text-align: right;\n",
       "    }\n",
       "</style>\n",
       "<table border=\"1\" class=\"dataframe\">\n",
       "  <thead>\n",
       "    <tr style=\"text-align: right;\">\n",
       "      <th></th>\n",
       "      <th>company_name</th>\n",
       "      <th>trips_amount</th>\n",
       "    </tr>\n",
       "  </thead>\n",
       "  <tbody>\n",
       "    <tr>\n",
       "      <td>0</td>\n",
       "      <td>Flash Cab</td>\n",
       "      <td>19558</td>\n",
       "    </tr>\n",
       "    <tr>\n",
       "      <td>1</td>\n",
       "      <td>Taxi Affiliation Services</td>\n",
       "      <td>11422</td>\n",
       "    </tr>\n",
       "    <tr>\n",
       "      <td>2</td>\n",
       "      <td>Medallion Leasing</td>\n",
       "      <td>10367</td>\n",
       "    </tr>\n",
       "    <tr>\n",
       "      <td>3</td>\n",
       "      <td>Yellow Cab</td>\n",
       "      <td>9888</td>\n",
       "    </tr>\n",
       "    <tr>\n",
       "      <td>4</td>\n",
       "      <td>Taxi Affiliation Service Yellow</td>\n",
       "      <td>9299</td>\n",
       "    </tr>\n",
       "    <tr>\n",
       "      <td>5</td>\n",
       "      <td>Chicago Carriage Cab Corp</td>\n",
       "      <td>9181</td>\n",
       "    </tr>\n",
       "    <tr>\n",
       "      <td>6</td>\n",
       "      <td>City Service</td>\n",
       "      <td>8448</td>\n",
       "    </tr>\n",
       "    <tr>\n",
       "      <td>7</td>\n",
       "      <td>Sun Taxi</td>\n",
       "      <td>7701</td>\n",
       "    </tr>\n",
       "    <tr>\n",
       "      <td>8</td>\n",
       "      <td>Star North Management LLC</td>\n",
       "      <td>7455</td>\n",
       "    </tr>\n",
       "    <tr>\n",
       "      <td>9</td>\n",
       "      <td>Blue Ribbon Taxi Association Inc.</td>\n",
       "      <td>5953</td>\n",
       "    </tr>\n",
       "  </tbody>\n",
       "</table>\n",
       "</div>"
      ],
      "text/plain": [
       "                        company_name  trips_amount\n",
       "0                          Flash Cab         19558\n",
       "1          Taxi Affiliation Services         11422\n",
       "2                  Medallion Leasing         10367\n",
       "3                         Yellow Cab          9888\n",
       "4    Taxi Affiliation Service Yellow          9299\n",
       "5          Chicago Carriage Cab Corp          9181\n",
       "6                       City Service          8448\n",
       "7                           Sun Taxi          7701\n",
       "8          Star North Management LLC          7455\n",
       "9  Blue Ribbon Taxi Association Inc.          5953"
      ]
     },
     "metadata": {},
     "output_type": "display_data"
    }
   ],
   "source": [
    "### COMPANY \n",
    "#Finding a Top 10 company\n",
    "company = company.sort_values('trips_amount',ascending=False)\n",
    "company_top_10 = company.query('index < 10')\n",
    "display(company_top_10)"
   ]
  },
  {
   "cell_type": "markdown",
   "metadata": {},
   "source": [
    "# Step 2. Prepare & change the data.\n",
    "CHANGING DATA TYPES.\n",
    "\n",
    "In company dataframe:\n",
    "- I changed trips_amount column data type from int64 to int16 to save space.\n",
    "\n",
    "In hypotesi dataframe:\n",
    "- I changed start_ts column to date time.\n",
    "- duration_seconds from float to int16.\n",
    "\n",
    "PREPARING DATA.\n",
    "In trips dataframe:\n",
    "- Found top 10 dropoffs.\n",
    "\n",
    "In company dataframe:\n",
    "- Found top 10 companies."
   ]
  },
  {
   "cell_type": "markdown",
   "metadata": {},
   "source": [
    "# STEP 3 - Exploratory Data Analysis (EDA)"
   ]
  },
  {
   "cell_type": "code",
   "execution_count": 20,
   "metadata": {},
   "outputs": [
    {
     "data": {
      "image/png": "[encoded data removed]",
      "text/plain": [
       "<Figure size 1872x720 with 1 Axes>"
      ]
     },
     "metadata": {
      "needs_background": "light"
     },
     "output_type": "display_data"
    }
   ],
   "source": [
    "trips_top_10_bar = (trips_top_10.groupby('dropoff_location_name')['average_trips'].sum())\n",
    "trips_top_10_bar = trips_top_10_bar.sort_values(ascending=False)\n",
    "plt.figure(figsize=(26,10)) \n",
    "trips_top_10_bar.plot(kind='bar', color = 'blue')\n",
    "plt.title('DROPOFF_LOCATION_NAME.', size =18, weight='bold')\n",
    "plt.xlabel('DROPOFF_LOCATION_NAME')\n",
    "plt.ylabel('AVERAGE TRIPS')\n",
    "plt.show()"
   ]
  },
  {
   "cell_type": "code",
   "execution_count": 21,
   "metadata": {},
   "outputs": [
    {
     "data": {
      "image/png": "[encoded data removed]",
      "text/plain": [
       "<Figure size 1872x720 with 1 Axes>"
      ]
     },
     "metadata": {
      "needs_background": "light"
     },
     "output_type": "display_data"
    }
   ],
   "source": [
    "company_bar = (company.groupby('company_name')['trips_amount'].sum())\n",
    "company_bar = company_bar.sort_values(ascending=False)\n",
    "plt.figure(figsize=(26,10)) \n",
    "company_bar.plot(kind='bar', color = 'orange')\n",
    "plt.title('COMPANY CHART.', size =18, weight='bold')\n",
    "plt.xlabel('COMPANY_NAME')\n",
    "plt.ylabel('TRIPS AMOUNT')\n",
    "plt.show()"
   ]
  },
  {
   "cell_type": "code",
   "execution_count": 22,
   "metadata": {},
   "outputs": [
    {
     "data": {
      "image/png": "[encoded data removed]",
      "text/plain": [
       "<Figure size 1872x720 with 1 Axes>"
      ]
     },
     "metadata": {
      "needs_background": "light"
     },
     "output_type": "display_data"
    }
   ],
   "source": [
    "company_bar_10 = (company_top_10.groupby('company_name')['trips_amount'].sum())\n",
    "company_bar_10 = company_bar_10.sort_values(ascending=False)\n",
    "plt.figure(figsize=(26,10)) \n",
    "company_bar_10.plot(kind='bar', color = 'orange')\n",
    "plt.title('COMPANY TOP 10.', size =18, weight='bold')\n",
    "plt.xlabel('COMPANY_NAME')\n",
    "plt.ylabel('TRIPS AMOUNT')\n",
    "plt.show()"
   ]
  },
  {
   "cell_type": "markdown",
   "metadata": {},
   "source": [
    "# STEP 3 - Exploratory Data Analysis (EDA)\n",
    "FIRST BAR GRAPH = DROPOFF_LOCATION_NAME\n",
    "- Gold Coast (1364.233333)\n",
    "- Grant Park  (2068.533333)\n",
    "- Lake View (2420.966667)\n",
    "- Loop (10727.466667)\n",
    "- Museum Campus (1510.000000)\n",
    "- O'Hare (2546.900000)\n",
    "- River North (9523.666667)\n",
    "- Sheffield & DePaul (1259.766667)\n",
    "- Streeterville (6664.666667)\n",
    "- West Loop (5163.666667)\n",
    "\n",
    "What is important about the graph?\n",
    "- Loop and River North leads the chart in the first two position. \n",
    "- Second group formed by Streetville and West Loop.\n",
    "- Third group Grant Park, Lake View, O'Hare.\n",
    "- Last group Gold Coast, Museum Campus, Sheffield & DePaul.\n",
    "\n",
    "- 4 of them are above 5000 rides\n",
    "- 6 of them beneath 5000 rides.\n",
    "\n",
    "\n",
    "\n",
    "SECOND BAR GRAPH = COMPANY CHART\n",
    "What is important about the graph?\n",
    "- 10 companies have more then 5500. We analize those in the next graph. ---- print(company.query('trips_amount > 5500').count())\n",
    "- 2 companies among 5500 and 3500 trips.\n",
    "- 5 companies among 3500 and 2000 trips.\n",
    "- 8 companies among 2000 and 1000 trips.\n",
    "- 1 company   among 1000 and 500 trips.\n",
    "- 9 companies among 500 and 50 trips.\n",
    "- 6 companies among 50 and 30 trips.\n",
    "- 7 companies among 30 and 20 trips.\n",
    "- 9 companies among 20 and 10 trips.\n",
    "- 7 companies among 10 and 0 trips.\n",
    "\n",
    "\n",
    "\n",
    "THIRD BAR GRAPH = COMPANY TOP 10\n",
    "- Blue Ribbon Taxi Association Inc.     5953\n",
    "- Chicago Carriage Cab Corp             9181\n",
    "- City Service                          8448\n",
    "- Flash Cab                            19558\n",
    "- Medallion Leasing                    10367\n",
    "- Star North Management LLC             7455\n",
    "- Sun Taxi                              7701\n",
    "- Taxi Affiliation Service Yellow       9299\n",
    "- Taxi Affiliation Services            11422\n",
    "- Yellow Cab                            9888\n",
    "\n",
    "What is important about the graph? \n",
    "- Flash Cab is the absolute leader with more then 19000 rides.\n",
    "- Taxi Affiliation Services and Medallion Leasing are the other over 10000 rides.\n",
    "- Taxi Affiliation Services, Yellow Cab, Chicago Carriage Cab Corp, City Service\n",
    "- Sun Taxi, Start North Managemnent LLC, Blue Ribbon Taxi Association Inc are in a range among 7800 rides and 5900."
   ]
  },
  {
   "cell_type": "markdown",
   "metadata": {},
   "source": [
    "# Step 4. Test the following hypothesi."
   ]
  },
  {
   "cell_type": "code",
   "execution_count": 54,
   "metadata": {},
   "outputs": [
    {
     "data": {
      "text/plain": [
       "weather_conditions\n",
       "Bad     2427.205556\n",
       "Good    1999.675676\n",
       "Name: duration_seconds, dtype: float64"
      ]
     },
     "metadata": {},
     "output_type": "display_data"
    }
   ],
   "source": [
    "hypotesi_avg = hypotesi['duration_seconds'].groupby(hypotesi['weather_conditions']).mean()\n",
    "display(hypotesi_avg)"
   ]
  },
  {
   "cell_type": "markdown",
   "metadata": {},
   "source": [
    "N0 = \"The average duration of rides from the Loop to O'Hare International Airport is the same on rainy Saturdays.\"\n",
    "\n",
    "NA = \"There's a significance diffent in the average duration of rides from the Loop to O'Hare International Airport on rainy Saturdays.\""
   ]
  },
  {
   "cell_type": "code",
   "execution_count": 24,
   "metadata": {},
   "outputs": [
    {
     "name": "stdout",
     "output_type": "stream",
     "text": [
      "Ttest_indResult(statistic=7.186034288068629, pvalue=6.738994326108734e-12)\n"
     ]
    }
   ],
   "source": [
    "from scipy import stats as st\n",
    "\n",
    "N0 = hypotesi[hypotesi['weather_conditions'] == 'Bad']\n",
    "NA = hypotesi[hypotesi['weather_conditions'] == 'Good']\n",
    "\n",
    "alpha = .1                                                \n",
    "                               \n",
    "results = st.ttest_ind(N0['duration_seconds'], \n",
    "                        NA['duration_seconds'],\n",
    "                          equal_var = False)\n",
    "\n",
    "print(results1)"
   ]
  },
  {
   "cell_type": "code",
   "execution_count": 25,
   "metadata": {},
   "outputs": [
    {
     "name": "stdout",
     "output_type": "stream",
     "text": [
      "pvalue is : 6.738994326108734e-12\n",
      "We reject the null hypothesis\n"
     ]
    }
   ],
   "source": [
    "print('pvalue is :', results.pvalue)\n",
    "\n",
    "if (results.pvalue < alpha):\n",
    "    print('We reject the null hypothesis')\n",
    "else:\n",
    "    print(\"We can't reject the null hypothesis\")"
   ]
  },
  {
   "cell_type": "markdown",
   "metadata": {},
   "source": [
    "# Step 4. Test the following hypothesi.\n",
    "FIRST HYPOTESIS : Bad(duration_seconds) and Good(duration_seconds) have the same mean.\n",
    "\n",
    "Bad     2427.205556\n",
    "Good    1999.675676\n",
    "\n",
    "N0 = The mean is the same \n",
    "NA = The mean is different\n",
    "\n",
    "I expect to reject the hypotesis.\n",
    "\n",
    "after calculating the pvalue is : 6.738994326108734e-12\n",
    "We reject the null hypothesis. Successful."
   ]
  },
  {
   "cell_type": "markdown",
   "metadata": {},
   "source": [
    "# STEP 5. Write a general conclusion.\n",
    "\n",
    "I draw in those lessons, some SQL tables with the help of queries. I took that data to analize them in Python. I loaded the three datasets and they represented: \n",
    "\n",
    "- The companies with the number of rides for each taxi company on November 15-16, 2017.\n",
    "- The dropoffs locations and the average number of rides that ended in each neighborhood in November 2017.\n",
    "- The rides from the Loop to O'Hare International Airport with weather informations.\n",
    "\n",
    "I prepared the data to found top 10 charts and changed data types to the correct ones.\n",
    "\n",
    "\n",
    "In Exploratory Data Analysis phase proceeded plotting bar graph.\n",
    "Two things are clear from those graphs: \n",
    "- In November 2017, Loop and River North were the favorite dropoff location.\n",
    "- On 15-16 November 2017, Flash Cab has done more trips, following we find Taxi Affiliation Services and Medallion Leasing.\n",
    "\n",
    "In the end, I tested the hypotesi that the duration in seconds of rides in day of Bad or Good time was the same.\n",
    "This resulted into a rejection of our hypotesi. \"Bad\" weather day have an higher durations of rides average compared to the \"Good\" one."
   ]
  }
 ],
 "metadata": {
  "kernelspec": {
   "display_name": "Python 3",
   "language": "python",
   "name": "python3"
  },
  "language_info": {
   "codemirror_mode": {
    "name": "ipython",
    "version": 3
   },
   "file_extension": ".py",
   "mimetype": "text/x-python",
   "name": "python",
   "nbconvert_exporter": "python",
   "pygments_lexer": "ipython3",
   "version": "3.7.8"
  },
  "toc": {
   "base_numbering": 1,
   "nav_menu": {},
   "number_sections": true,
   "sideBar": true,
   "skip_h1_title": true,
   "title_cell": "Table of Contents",
   "title_sidebar": "Contents",
   "toc_cell": false,
   "toc_position": {},
   "toc_section_display": true,
   "toc_window_display": false
  }
 },
 "nbformat": 4,
 "nbformat_minor": 2
}
